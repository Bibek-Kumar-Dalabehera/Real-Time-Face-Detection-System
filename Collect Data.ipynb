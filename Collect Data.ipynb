{
 "cells": [
  {
   "cell_type": "code",
   "execution_count": 3,
   "id": "c99f9631-0aa2-40e4-8acb-e0411e89aceb",
   "metadata": {},
   "outputs": [
    {
     "ename": "error",
     "evalue": "OpenCV(4.10.0) D:\\a\\opencv-python\\opencv-python\\opencv\\modules\\objdetect\\src\\cascadedetect.cpp:1689: error: (-215:Assertion failed) !empty() in function 'cv::CascadeClassifier::detectMultiScale'\n",
     "output_type": "error",
     "traceback": [
      "\u001b[1;31m---------------------------------------------------------------------------\u001b[0m",
      "\u001b[1;31merror\u001b[0m                                     Traceback (most recent call last)",
      "Cell \u001b[1;32mIn[3], line 19\u001b[0m\n\u001b[0;32m     16\u001b[0m frame \u001b[38;5;241m=\u001b[39m np\u001b[38;5;241m.\u001b[39marray(\u001b[38;5;28mbytearray\u001b[39m(image_from_url\u001b[38;5;241m.\u001b[39mread()),np\u001b[38;5;241m.\u001b[39muint8)\n\u001b[0;32m     17\u001b[0m frame \u001b[38;5;241m=\u001b[39m cv2\u001b[38;5;241m.\u001b[39mimdecode(frame,\u001b[38;5;241m-\u001b[39m\u001b[38;5;241m1\u001b[39m)\u001b[38;5;66;03m# used to add colour to image\u001b[39;00m\n\u001b[1;32m---> 19\u001b[0m face_points \u001b[38;5;241m=\u001b[39m classifier\u001b[38;5;241m.\u001b[39mdetectMultiScale(frame,\u001b[38;5;241m1.3\u001b[39m,\u001b[38;5;241m5\u001b[39m)\u001b[38;5;66;03m# identify the face\u001b[39;00m\n\u001b[0;32m     21\u001b[0m \u001b[38;5;28;01mif\u001b[39;00m \u001b[38;5;28mlen\u001b[39m(face_points)\u001b[38;5;241m>\u001b[39m\u001b[38;5;241m0\u001b[39m:\n\u001b[0;32m     22\u001b[0m     \u001b[38;5;28;01mfor\u001b[39;00m x,y,w,h \u001b[38;5;129;01min\u001b[39;00m face_points:\n",
      "\u001b[1;31merror\u001b[0m: OpenCV(4.10.0) D:\\a\\opencv-python\\opencv-python\\opencv\\modules\\objdetect\\src\\cascadedetect.cpp:1689: error: (-215:Assertion failed) !empty() in function 'cv::CascadeClassifier::detectMultiScale'\n"
     ]
    }
   ],
   "source": [
    "import cv2\n",
    "import urllib\n",
    "import numpy as np\n",
    "\n",
    "classifier = cv2.CascadeClassifier(\"Desktop/Face Detection CTTC/haarcascade_frontalface_default.xml\")\n",
    "\n",
    "url = \"http://192.0.0.4:8080/shot.jpg\"\n",
    "\n",
    "\n",
    "data = []\n",
    "\n",
    "while len(data) < 100:\n",
    "    \n",
    "    \n",
    "    image_from_url = urllib.request.urlopen(url)\n",
    "    frame = np.array(bytearray(image_from_url.read()),np.uint8)\n",
    "    frame = cv2.imdecode(frame,-1)# used to add colour to image\n",
    "    \n",
    "    face_points = classifier.detectMultiScale(frame,1.3,5)# identify the face\n",
    "    \n",
    "    if len(face_points)>0:\n",
    "        for x,y,w,h in face_points:\n",
    "            face_frame = frame[y:y+h+1,x:x+w+1]#Only face frame\n",
    "            cv2.imshow(\"Only face\",face_frame)\n",
    "            if len(data)<=100:\n",
    "                print(len(data)+1,\"/100\")\n",
    "                data.append(face_frame)#Adding to list\n",
    "                break\n",
    "    \n",
    "    cv2.putText(frame, str(len(data)),(100,100),cv2.FONT_HERSHEY_SIMPLEX,5,(0,0,255))\n",
    "    cv2.imshow(\"frame\",frame)\n",
    "    if cv2.waitKey(30) == ord(\"q\"):#To quit execution\n",
    "        break\n",
    "cv2.destroyAllWindows()\n",
    "        \n",
    "if len(data)== 100:\n",
    "    name = input(\"Enter Face holder name : \")#Adding to folder\n",
    "    for i in range(100):\n",
    "        cv2.imwrite(\"images/\"+name+\"_\"+str(i)+\".jpg\",data[i])# adding file to images folder\n",
    "    print(\"Done\")\n",
    "else:\n",
    "    print(\"need more data\")"
   ]
  },
  {
   "cell_type": "code",
   "execution_count": null,
   "id": "f4b85175-36a5-4c36-a43f-e25a9311082c",
   "metadata": {},
   "outputs": [],
   "source": []
  }
 ],
 "metadata": {
  "kernelspec": {
   "display_name": "Python 3 (ipykernel)",
   "language": "python",
   "name": "python3"
  },
  "language_info": {
   "codemirror_mode": {
    "name": "ipython",
    "version": 3
   },
   "file_extension": ".py",
   "mimetype": "text/x-python",
   "name": "python",
   "nbconvert_exporter": "python",
   "pygments_lexer": "ipython3",
   "version": "3.11.7"
  }
 },
 "nbformat": 4,
 "nbformat_minor": 5
}
